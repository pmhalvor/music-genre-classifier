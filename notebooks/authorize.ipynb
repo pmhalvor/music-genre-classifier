{
 "cells": [
  {
   "cell_type": "code",
   "execution_count": 9,
   "metadata": {},
   "outputs": [
    {
     "data": {
      "text/plain": [
       "'https://perhalvorsen.com/radio'"
      ]
     },
     "execution_count": 9,
     "metadata": {},
     "output_type": "execute_result"
    }
   ],
   "source": [
    "import os\n",
    "os.environ[\"ROOT\"] = \"/Users/per.morten.halvorsen@schibsted.com/personal\"\n",
    "os.chdir(os.environ[\"ROOT\"])\n",
    "os.environ.get(\"SPOTIFY_REDIRECT_URI\")"
   ]
  },
  {
   "cell_type": "code",
   "execution_count": 10,
   "metadata": {},
   "outputs": [],
   "source": [
    "from website.radio.worker.authorize import get_token, get_code_from_url"
   ]
  },
  {
   "cell_type": "code",
   "execution_count": 11,
   "metadata": {},
   "outputs": [
    {
     "name": "stdout",
     "output_type": "stream",
     "text": [
      "You need to log in using this url: \n",
      "https://accounts.spotify.com/en/login?continue=https%3A%2F%2Faccounts.spotify.com%2Fauthorize%3Fscope%3Duser-read-currently-playing%26response_type%3Dcode%26redirect_uri%3Dhttps%253A%252F%252Fperhalvorsen.com%252Fradio%26state%3D1337%26client_id%3Dcb1c89d10c374c41a1763e5b3a7d0bf9\n",
      "After logging in, you will be redirected to a url that looks like this: \n",
      "https://localhost:8888/callback?code=<SOME_LONG_HASH_CODE>&state=1337\n",
      "Copy the url and feed it into the get_code_from_url function to get the code.\n"
     ]
    }
   ],
   "source": [
    "get_token()"
   ]
  },
  {
   "cell_type": "code",
   "execution_count": 4,
   "metadata": {},
   "outputs": [],
   "source": [
    "url = \"https://perhalvorsen.com/radio/?code=<MY_SUPER_SECRET_HASH>&state=1337\"\n",
    "code = get_code_from_url(url)\n",
    "token = get_token(code)"
   ]
  },
  {
   "cell_type": "code",
   "execution_count": null,
   "metadata": {},
   "outputs": [],
   "source": []
  }
 ],
 "metadata": {
  "kernelspec": {
   "display_name": "music-genre",
   "language": "python",
   "name": "python3"
  },
  "language_info": {
   "codemirror_mode": {
    "name": "ipython",
    "version": 3
   },
   "file_extension": ".py",
   "mimetype": "text/x-python",
   "name": "python",
   "nbconvert_exporter": "python",
   "pygments_lexer": "ipython3",
   "version": "3.11.5"
  },
  "orig_nbformat": 4
 },
 "nbformat": 4,
 "nbformat_minor": 2
}
